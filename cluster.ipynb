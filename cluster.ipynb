{
 "cells": [
  {
   "cell_type": "markdown",
   "metadata": {},
   "source": [
    "## 王者荣耀英雄分类\n",
    "\n",
    "步骤：\n",
    "- 预处理数据\n",
    "- 层次聚类\n",
    "- 利用PCA来选择变量，再做一次层次聚类"
   ]
  },
  {
   "cell_type": "markdown",
   "metadata": {},
   "source": [
    "### 预处理数据"
   ]
  },
  {
   "cell_type": "code",
   "execution_count": 1,
   "metadata": {},
   "outputs": [],
   "source": [
    "import pandas as pd\n",
    "import numpy as np\n",
    "import matplotlib.pyplot as plt\n",
    "%matplotlib inline"
   ]
  },
  {
   "cell_type": "code",
   "execution_count": 2,
   "metadata": {},
   "outputs": [
    {
     "data": {
      "text/html": [
       "<div>\n",
       "<style scoped>\n",
       "    .dataframe tbody tr th:only-of-type {\n",
       "        vertical-align: middle;\n",
       "    }\n",
       "\n",
       "    .dataframe tbody tr th {\n",
       "        vertical-align: top;\n",
       "    }\n",
       "\n",
       "    .dataframe thead th {\n",
       "        text-align: right;\n",
       "    }\n",
       "</style>\n",
       "<table border=\"1\" class=\"dataframe\">\n",
       "  <thead>\n",
       "    <tr style=\"text-align: right;\">\n",
       "      <th></th>\n",
       "      <th>英雄</th>\n",
       "      <th>最大生命</th>\n",
       "      <th>生命成长</th>\n",
       "      <th>初始生命</th>\n",
       "      <th>最大法力</th>\n",
       "      <th>法力成长</th>\n",
       "      <th>初始法力</th>\n",
       "      <th>最高物攻</th>\n",
       "      <th>物攻成长</th>\n",
       "      <th>初始物攻</th>\n",
       "      <th>...</th>\n",
       "      <th>最大每5秒回血</th>\n",
       "      <th>每5秒回血成长</th>\n",
       "      <th>初始每5秒回血</th>\n",
       "      <th>最大每5秒回蓝</th>\n",
       "      <th>每5秒回蓝成长</th>\n",
       "      <th>初始每5秒回蓝</th>\n",
       "      <th>最大攻速</th>\n",
       "      <th>攻击范围</th>\n",
       "      <th>主要定位</th>\n",
       "      <th>次要定位</th>\n",
       "    </tr>\n",
       "  </thead>\n",
       "  <tbody>\n",
       "    <tr>\n",
       "      <th>0</th>\n",
       "      <td>夏侯惇</td>\n",
       "      <td>7350</td>\n",
       "      <td>288.8</td>\n",
       "      <td>3307</td>\n",
       "      <td>1746</td>\n",
       "      <td>94</td>\n",
       "      <td>430</td>\n",
       "      <td>321</td>\n",
       "      <td>11.57</td>\n",
       "      <td>159</td>\n",
       "      <td>...</td>\n",
       "      <td>98</td>\n",
       "      <td>3.357</td>\n",
       "      <td>51</td>\n",
       "      <td>37</td>\n",
       "      <td>1.571</td>\n",
       "      <td>15</td>\n",
       "      <td>28.00%</td>\n",
       "      <td>近战</td>\n",
       "      <td>坦克</td>\n",
       "      <td>战士</td>\n",
       "    </tr>\n",
       "    <tr>\n",
       "      <th>1</th>\n",
       "      <td>钟无艳</td>\n",
       "      <td>7000</td>\n",
       "      <td>275.0</td>\n",
       "      <td>3150</td>\n",
       "      <td>1760</td>\n",
       "      <td>95</td>\n",
       "      <td>430</td>\n",
       "      <td>318</td>\n",
       "      <td>11.00</td>\n",
       "      <td>164</td>\n",
       "      <td>...</td>\n",
       "      <td>92</td>\n",
       "      <td>3.143</td>\n",
       "      <td>48</td>\n",
       "      <td>37</td>\n",
       "      <td>1.571</td>\n",
       "      <td>15</td>\n",
       "      <td>14.00%</td>\n",
       "      <td>近战</td>\n",
       "      <td>战士</td>\n",
       "      <td>坦克</td>\n",
       "    </tr>\n",
       "    <tr>\n",
       "      <th>2</th>\n",
       "      <td>张飞</td>\n",
       "      <td>8341</td>\n",
       "      <td>329.4</td>\n",
       "      <td>3450</td>\n",
       "      <td>100</td>\n",
       "      <td>0</td>\n",
       "      <td>100</td>\n",
       "      <td>301</td>\n",
       "      <td>10.57</td>\n",
       "      <td>153</td>\n",
       "      <td>...</td>\n",
       "      <td>115</td>\n",
       "      <td>4.143</td>\n",
       "      <td>57</td>\n",
       "      <td>5</td>\n",
       "      <td>0.000</td>\n",
       "      <td>5</td>\n",
       "      <td>14.00%</td>\n",
       "      <td>近战</td>\n",
       "      <td>坦克</td>\n",
       "      <td>辅助</td>\n",
       "    </tr>\n",
       "  </tbody>\n",
       "</table>\n",
       "<p>3 rows × 23 columns</p>\n",
       "</div>"
      ],
      "text/plain": [
       "    英雄  最大生命   生命成长  初始生命  最大法力  法力成长  初始法力  最高物攻   物攻成长  初始物攻  ...  最大每5秒回血  \\\n",
       "0  夏侯惇  7350  288.8  3307  1746    94   430   321  11.57   159  ...       98   \n",
       "1  钟无艳  7000  275.0  3150  1760    95   430   318  11.00   164  ...       92   \n",
       "2   张飞  8341  329.4  3450   100     0   100   301  10.57   153  ...      115   \n",
       "\n",
       "   每5秒回血成长  初始每5秒回血  最大每5秒回蓝  每5秒回蓝成长  初始每5秒回蓝    最大攻速  攻击范围  主要定位 次要定位   \n",
       "0    3.357       51       37    1.571       15  28.00%    近战    坦克    战士  \n",
       "1    3.143       48       37    1.571       15  14.00%    近战    战士    坦克  \n",
       "2    4.143       57        5    0.000        5  14.00%    近战    坦克    辅助  \n",
       "\n",
       "[3 rows x 23 columns]"
      ]
     },
     "execution_count": 2,
     "metadata": {},
     "output_type": "execute_result"
    }
   ],
   "source": [
    "heroes = pd.read_csv('heros1.csv', encoding = 'utf-8-sig')\n",
    "heroes.head(3)"
   ]
  },
  {
   "cell_type": "code",
   "execution_count": 3,
   "metadata": {},
   "outputs": [
    {
     "data": {
      "text/html": [
       "<div>\n",
       "<style scoped>\n",
       "    .dataframe tbody tr th:only-of-type {\n",
       "        vertical-align: middle;\n",
       "    }\n",
       "\n",
       "    .dataframe tbody tr th {\n",
       "        vertical-align: top;\n",
       "    }\n",
       "\n",
       "    .dataframe thead th {\n",
       "        text-align: right;\n",
       "    }\n",
       "</style>\n",
       "<table border=\"1\" class=\"dataframe\">\n",
       "  <thead>\n",
       "    <tr style=\"text-align: right;\">\n",
       "      <th></th>\n",
       "      <th>最大生命</th>\n",
       "      <th>生命成长</th>\n",
       "      <th>初始生命</th>\n",
       "      <th>最大法力</th>\n",
       "      <th>法力成长</th>\n",
       "      <th>初始法力</th>\n",
       "      <th>最高物攻</th>\n",
       "      <th>物攻成长</th>\n",
       "      <th>初始物攻</th>\n",
       "      <th>最大物防</th>\n",
       "      <th>物防成长</th>\n",
       "      <th>初始物防</th>\n",
       "      <th>最大每5秒回血</th>\n",
       "      <th>每5秒回血成长</th>\n",
       "      <th>初始每5秒回血</th>\n",
       "      <th>最大每5秒回蓝</th>\n",
       "      <th>每5秒回蓝成长</th>\n",
       "      <th>初始每5秒回蓝</th>\n",
       "      <th>最大攻速</th>\n",
       "      <th>攻击范围</th>\n",
       "    </tr>\n",
       "  </thead>\n",
       "  <tbody>\n",
       "    <tr>\n",
       "      <th>0</th>\n",
       "      <td>7350</td>\n",
       "      <td>288.8</td>\n",
       "      <td>3307</td>\n",
       "      <td>1746</td>\n",
       "      <td>94</td>\n",
       "      <td>430</td>\n",
       "      <td>321</td>\n",
       "      <td>11.57</td>\n",
       "      <td>159</td>\n",
       "      <td>397</td>\n",
       "      <td>21.14</td>\n",
       "      <td>101</td>\n",
       "      <td>98</td>\n",
       "      <td>3.357</td>\n",
       "      <td>51</td>\n",
       "      <td>37</td>\n",
       "      <td>1.571</td>\n",
       "      <td>15</td>\n",
       "      <td>28.00%</td>\n",
       "      <td>近战</td>\n",
       "    </tr>\n",
       "    <tr>\n",
       "      <th>1</th>\n",
       "      <td>7000</td>\n",
       "      <td>275.0</td>\n",
       "      <td>3150</td>\n",
       "      <td>1760</td>\n",
       "      <td>95</td>\n",
       "      <td>430</td>\n",
       "      <td>318</td>\n",
       "      <td>11.00</td>\n",
       "      <td>164</td>\n",
       "      <td>409</td>\n",
       "      <td>22.07</td>\n",
       "      <td>100</td>\n",
       "      <td>92</td>\n",
       "      <td>3.143</td>\n",
       "      <td>48</td>\n",
       "      <td>37</td>\n",
       "      <td>1.571</td>\n",
       "      <td>15</td>\n",
       "      <td>14.00%</td>\n",
       "      <td>近战</td>\n",
       "    </tr>\n",
       "    <tr>\n",
       "      <th>2</th>\n",
       "      <td>8341</td>\n",
       "      <td>329.4</td>\n",
       "      <td>3450</td>\n",
       "      <td>100</td>\n",
       "      <td>0</td>\n",
       "      <td>100</td>\n",
       "      <td>301</td>\n",
       "      <td>10.57</td>\n",
       "      <td>153</td>\n",
       "      <td>504</td>\n",
       "      <td>27.07</td>\n",
       "      <td>125</td>\n",
       "      <td>115</td>\n",
       "      <td>4.143</td>\n",
       "      <td>57</td>\n",
       "      <td>5</td>\n",
       "      <td>0.000</td>\n",
       "      <td>5</td>\n",
       "      <td>14.00%</td>\n",
       "      <td>近战</td>\n",
       "    </tr>\n",
       "  </tbody>\n",
       "</table>\n",
       "</div>"
      ],
      "text/plain": [
       "   最大生命   生命成长  初始生命  最大法力  法力成长  初始法力  最高物攻   物攻成长  初始物攻  最大物防   物防成长  初始物防  \\\n",
       "0  7350  288.8  3307  1746    94   430   321  11.57   159   397  21.14   101   \n",
       "1  7000  275.0  3150  1760    95   430   318  11.00   164   409  22.07   100   \n",
       "2  8341  329.4  3450   100     0   100   301  10.57   153   504  27.07   125   \n",
       "\n",
       "   最大每5秒回血  每5秒回血成长  初始每5秒回血  最大每5秒回蓝  每5秒回蓝成长  初始每5秒回蓝    最大攻速 攻击范围  \n",
       "0       98    3.357       51       37    1.571       15  28.00%   近战  \n",
       "1       92    3.143       48       37    1.571       15  14.00%   近战  \n",
       "2      115    4.143       57        5    0.000        5  14.00%   近战  "
      ]
     },
     "execution_count": 3,
     "metadata": {},
     "output_type": "execute_result"
    }
   ],
   "source": [
    "data = heroes.iloc[:,1:-2].copy()\n",
    "data.head(3)"
   ]
  },
  {
   "cell_type": "code",
   "execution_count": 4,
   "metadata": {},
   "outputs": [
    {
     "data": {
      "text/html": [
       "<div>\n",
       "<style scoped>\n",
       "    .dataframe tbody tr th:only-of-type {\n",
       "        vertical-align: middle;\n",
       "    }\n",
       "\n",
       "    .dataframe tbody tr th {\n",
       "        vertical-align: top;\n",
       "    }\n",
       "\n",
       "    .dataframe thead th {\n",
       "        text-align: right;\n",
       "    }\n",
       "</style>\n",
       "<table border=\"1\" class=\"dataframe\">\n",
       "  <thead>\n",
       "    <tr style=\"text-align: right;\">\n",
       "      <th></th>\n",
       "      <th>最大生命</th>\n",
       "      <th>生命成长</th>\n",
       "      <th>初始生命</th>\n",
       "      <th>最大法力</th>\n",
       "      <th>法力成长</th>\n",
       "      <th>初始法力</th>\n",
       "      <th>最高物攻</th>\n",
       "      <th>物攻成长</th>\n",
       "      <th>初始物攻</th>\n",
       "      <th>最大物防</th>\n",
       "      <th>物防成长</th>\n",
       "      <th>初始物防</th>\n",
       "      <th>最大每5秒回血</th>\n",
       "      <th>每5秒回血成长</th>\n",
       "      <th>初始每5秒回血</th>\n",
       "      <th>最大每5秒回蓝</th>\n",
       "      <th>每5秒回蓝成长</th>\n",
       "      <th>初始每5秒回蓝</th>\n",
       "      <th>最大攻速</th>\n",
       "      <th>攻击范围</th>\n",
       "    </tr>\n",
       "  </thead>\n",
       "  <tbody>\n",
       "    <tr>\n",
       "      <th>0</th>\n",
       "      <td>7350</td>\n",
       "      <td>288.8</td>\n",
       "      <td>3307</td>\n",
       "      <td>1746</td>\n",
       "      <td>94</td>\n",
       "      <td>430</td>\n",
       "      <td>321</td>\n",
       "      <td>11.57</td>\n",
       "      <td>159</td>\n",
       "      <td>397</td>\n",
       "      <td>21.14</td>\n",
       "      <td>101</td>\n",
       "      <td>98</td>\n",
       "      <td>3.357</td>\n",
       "      <td>51</td>\n",
       "      <td>37</td>\n",
       "      <td>1.571</td>\n",
       "      <td>15</td>\n",
       "      <td>28.0</td>\n",
       "      <td>0</td>\n",
       "    </tr>\n",
       "    <tr>\n",
       "      <th>1</th>\n",
       "      <td>7000</td>\n",
       "      <td>275.0</td>\n",
       "      <td>3150</td>\n",
       "      <td>1760</td>\n",
       "      <td>95</td>\n",
       "      <td>430</td>\n",
       "      <td>318</td>\n",
       "      <td>11.00</td>\n",
       "      <td>164</td>\n",
       "      <td>409</td>\n",
       "      <td>22.07</td>\n",
       "      <td>100</td>\n",
       "      <td>92</td>\n",
       "      <td>3.143</td>\n",
       "      <td>48</td>\n",
       "      <td>37</td>\n",
       "      <td>1.571</td>\n",
       "      <td>15</td>\n",
       "      <td>14.0</td>\n",
       "      <td>0</td>\n",
       "    </tr>\n",
       "    <tr>\n",
       "      <th>2</th>\n",
       "      <td>8341</td>\n",
       "      <td>329.4</td>\n",
       "      <td>3450</td>\n",
       "      <td>100</td>\n",
       "      <td>0</td>\n",
       "      <td>100</td>\n",
       "      <td>301</td>\n",
       "      <td>10.57</td>\n",
       "      <td>153</td>\n",
       "      <td>504</td>\n",
       "      <td>27.07</td>\n",
       "      <td>125</td>\n",
       "      <td>115</td>\n",
       "      <td>4.143</td>\n",
       "      <td>57</td>\n",
       "      <td>5</td>\n",
       "      <td>0.000</td>\n",
       "      <td>5</td>\n",
       "      <td>14.0</td>\n",
       "      <td>0</td>\n",
       "    </tr>\n",
       "  </tbody>\n",
       "</table>\n",
       "</div>"
      ],
      "text/plain": [
       "   最大生命   生命成长  初始生命  最大法力  法力成长  初始法力  最高物攻   物攻成长  初始物攻  最大物防   物防成长  初始物防  \\\n",
       "0  7350  288.8  3307  1746    94   430   321  11.57   159   397  21.14   101   \n",
       "1  7000  275.0  3150  1760    95   430   318  11.00   164   409  22.07   100   \n",
       "2  8341  329.4  3450   100     0   100   301  10.57   153   504  27.07   125   \n",
       "\n",
       "   最大每5秒回血  每5秒回血成长  初始每5秒回血  最大每5秒回蓝  每5秒回蓝成长  初始每5秒回蓝  最大攻速  攻击范围  \n",
       "0       98    3.357       51       37    1.571       15  28.0     0  \n",
       "1       92    3.143       48       37    1.571       15  14.0     0  \n",
       "2      115    4.143       57        5    0.000        5  14.0     0  "
      ]
     },
     "execution_count": 4,
     "metadata": {},
     "output_type": "execute_result"
    }
   ],
   "source": [
    "# 修改攻击范围文本为 0 = 近战，1 = 远程\n",
    "def attack_range(x):\n",
    "    if x == '近战':\n",
    "        return 0\n",
    "    else:\n",
    "        return 1\n",
    "\n",
    "data['攻击范围'] = data['攻击范围'].apply(lambda x: attack_range(x))\n",
    "\n",
    "# 修改最大攻速为 0 = 近战，1 = 远程\n",
    "def attack_speed(x):\n",
    "    return float(x[:-1])\n",
    "\n",
    "data['最大攻速'] = data['最大攻速'].apply(lambda x: attack_speed(x))\n",
    "data.head(3)"
   ]
  },
  {
   "cell_type": "markdown",
   "metadata": {},
   "source": [
    "标准化数据"
   ]
  },
  {
   "cell_type": "code",
   "execution_count": 5,
   "metadata": {},
   "outputs": [
    {
     "data": {
      "text/html": [
       "<div>\n",
       "<style scoped>\n",
       "    .dataframe tbody tr th:only-of-type {\n",
       "        vertical-align: middle;\n",
       "    }\n",
       "\n",
       "    .dataframe tbody tr th {\n",
       "        vertical-align: top;\n",
       "    }\n",
       "\n",
       "    .dataframe thead th {\n",
       "        text-align: right;\n",
       "    }\n",
       "</style>\n",
       "<table border=\"1\" class=\"dataframe\">\n",
       "  <thead>\n",
       "    <tr style=\"text-align: right;\">\n",
       "      <th></th>\n",
       "      <th>最大生命</th>\n",
       "      <th>生命成长</th>\n",
       "      <th>初始生命</th>\n",
       "      <th>最大法力</th>\n",
       "      <th>法力成长</th>\n",
       "      <th>初始法力</th>\n",
       "      <th>最高物攻</th>\n",
       "      <th>物攻成长</th>\n",
       "      <th>初始物攻</th>\n",
       "      <th>最大物防</th>\n",
       "      <th>物防成长</th>\n",
       "      <th>初始物防</th>\n",
       "      <th>最大每5秒回血</th>\n",
       "      <th>每5秒回血成长</th>\n",
       "      <th>初始每5秒回血</th>\n",
       "      <th>最大每5秒回蓝</th>\n",
       "      <th>每5秒回蓝成长</th>\n",
       "      <th>初始每5秒回蓝</th>\n",
       "      <th>最大攻速</th>\n",
       "      <th>攻击范围</th>\n",
       "    </tr>\n",
       "  </thead>\n",
       "  <tbody>\n",
       "    <tr>\n",
       "      <th>0</th>\n",
       "      <td>0.887440</td>\n",
       "      <td>0.034870</td>\n",
       "      <td>0.399287</td>\n",
       "      <td>0.210812</td>\n",
       "      <td>0.011350</td>\n",
       "      <td>0.051918</td>\n",
       "      <td>0.038758</td>\n",
       "      <td>0.001397</td>\n",
       "      <td>0.019198</td>\n",
       "      <td>0.047934</td>\n",
       "      <td>0.002552</td>\n",
       "      <td>0.012195</td>\n",
       "      <td>0.011833</td>\n",
       "      <td>0.000405</td>\n",
       "      <td>0.006158</td>\n",
       "      <td>0.004467</td>\n",
       "      <td>0.000190</td>\n",
       "      <td>0.001811</td>\n",
       "      <td>0.003381</td>\n",
       "      <td>0.0</td>\n",
       "    </tr>\n",
       "    <tr>\n",
       "      <th>1</th>\n",
       "      <td>0.884673</td>\n",
       "      <td>0.034755</td>\n",
       "      <td>0.398103</td>\n",
       "      <td>0.222432</td>\n",
       "      <td>0.012006</td>\n",
       "      <td>0.054344</td>\n",
       "      <td>0.040189</td>\n",
       "      <td>0.001390</td>\n",
       "      <td>0.020727</td>\n",
       "      <td>0.051690</td>\n",
       "      <td>0.002789</td>\n",
       "      <td>0.012638</td>\n",
       "      <td>0.011627</td>\n",
       "      <td>0.000397</td>\n",
       "      <td>0.006066</td>\n",
       "      <td>0.004676</td>\n",
       "      <td>0.000199</td>\n",
       "      <td>0.001896</td>\n",
       "      <td>0.001769</td>\n",
       "      <td>0.0</td>\n",
       "    </tr>\n",
       "    <tr>\n",
       "      <th>2</th>\n",
       "      <td>0.921084</td>\n",
       "      <td>0.036375</td>\n",
       "      <td>0.380978</td>\n",
       "      <td>0.011043</td>\n",
       "      <td>0.000000</td>\n",
       "      <td>0.011043</td>\n",
       "      <td>0.033239</td>\n",
       "      <td>0.001167</td>\n",
       "      <td>0.016896</td>\n",
       "      <td>0.055656</td>\n",
       "      <td>0.002989</td>\n",
       "      <td>0.013804</td>\n",
       "      <td>0.012699</td>\n",
       "      <td>0.000458</td>\n",
       "      <td>0.006294</td>\n",
       "      <td>0.000552</td>\n",
       "      <td>0.000000</td>\n",
       "      <td>0.000552</td>\n",
       "      <td>0.001546</td>\n",
       "      <td>0.0</td>\n",
       "    </tr>\n",
       "  </tbody>\n",
       "</table>\n",
       "</div>"
      ],
      "text/plain": [
       "       最大生命      生命成长      初始生命      最大法力      法力成长      初始法力      最高物攻  \\\n",
       "0  0.887440  0.034870  0.399287  0.210812  0.011350  0.051918  0.038758   \n",
       "1  0.884673  0.034755  0.398103  0.222432  0.012006  0.054344  0.040189   \n",
       "2  0.921084  0.036375  0.380978  0.011043  0.000000  0.011043  0.033239   \n",
       "\n",
       "       物攻成长      初始物攻      最大物防      物防成长      初始物防   最大每5秒回血   每5秒回血成长  \\\n",
       "0  0.001397  0.019198  0.047934  0.002552  0.012195  0.011833  0.000405   \n",
       "1  0.001390  0.020727  0.051690  0.002789  0.012638  0.011627  0.000397   \n",
       "2  0.001167  0.016896  0.055656  0.002989  0.013804  0.012699  0.000458   \n",
       "\n",
       "    初始每5秒回血   最大每5秒回蓝   每5秒回蓝成长   初始每5秒回蓝      最大攻速  攻击范围  \n",
       "0  0.006158  0.004467  0.000190  0.001811  0.003381   0.0  \n",
       "1  0.006066  0.004676  0.000199  0.001896  0.001769   0.0  \n",
       "2  0.006294  0.000552  0.000000  0.000552  0.001546   0.0  "
      ]
     },
     "execution_count": 5,
     "metadata": {},
     "output_type": "execute_result"
    }
   ],
   "source": [
    "from sklearn.preprocessing import normalize\n",
    "data_scaled = normalize(data)\n",
    "data_scaled = pd.DataFrame(data_scaled, columns=data.columns)\n",
    "data_scaled.head(3)"
   ]
  },
  {
   "cell_type": "code",
   "execution_count": 6,
   "metadata": {},
   "outputs": [],
   "source": [
    "# help(shc.linkage)"
   ]
  },
  {
   "cell_type": "markdown",
   "metadata": {},
   "source": [
    "### Hierarchical clustering(层次聚类)"
   ]
  },
  {
   "cell_type": "markdown",
   "metadata": {},
   "source": [
    "Dendrogram(系统树图)"
   ]
  },
  {
   "cell_type": "code",
   "execution_count": 7,
   "metadata": {},
   "outputs": [
    {
     "data": {
      "text/plain": [
       "<matplotlib.lines.Line2D at 0x247815b9c50>"
      ]
     },
     "execution_count": 7,
     "metadata": {},
     "output_type": "execute_result"
    },
    {
     "data": {
      "image/png": "[encoded data removed]",
      "text/plain": [
       "<Figure size 720x504 with 1 Axes>"
      ]
     },
     "metadata": {
      "needs_background": "light"
     },
     "output_type": "display_data"
    }
   ],
   "source": [
    "import scipy.cluster.hierarchy as shc\n",
    "plt.figure(figsize=(10, 7))  \n",
    "plt.title(\"Dendrograms\")  \n",
    "dend = shc.dendrogram(shc.linkage(data_scaled, method='ward')) # ward\n",
    "plt.axhline(y=0.8, color='r', linestyle='--')\n",
    "plt.axhline(y=0.134, color='r', linestyle='--')\n",
    "plt.axhline(y=0.4, color='r', linestyle='--')"
   ]
  },
  {
   "cell_type": "code",
   "execution_count": 8,
   "metadata": {},
   "outputs": [],
   "source": [
    "def plot_cluster(k,data_scaled):\n",
    "    from sklearn.cluster import AgglomerativeClustering\n",
    "    cluster = AgglomerativeClustering(n_clusters=k, affinity='euclidean', linkage='ward')  \n",
    "    cluster.fit_predict(data_scaled)\n",
    "    plt.figure(figsize=(10, 7))  \n",
    "    plt.scatter(data_scaled['最大生命'], data_scaled['最大法力'], c=cluster.labels_) \n",
    "    return  cluster.fit_predict(data_scaled)"
   ]
  },
  {
   "cell_type": "markdown",
   "metadata": {},
   "source": [
    "分类可视化"
   ]
  },
  {
   "cell_type": "code",
   "execution_count": 9,
   "metadata": {},
   "outputs": [
    {
     "data": {
      "image/png": "[encoded data removed]",
      "text/plain": [
       "<Figure size 720x504 with 1 Axes>"
      ]
     },
     "metadata": {
      "needs_background": "light"
     },
     "output_type": "display_data"
    }
   ],
   "source": [
    "cluster_2 = plot_cluster(2,data_scaled)"
   ]
  },
  {
   "cell_type": "code",
   "execution_count": 10,
   "metadata": {},
   "outputs": [
    {
     "data": {
      "image/png": "[encoded data removed]",
      "text/plain": [
       "<Figure size 720x504 with 1 Axes>"
      ]
     },
     "metadata": {
      "needs_background": "light"
     },
     "output_type": "display_data"
    }
   ],
   "source": [
    "cluster_3 = plot_cluster(3,data_scaled)"
   ]
  },
  {
   "cell_type": "code",
   "execution_count": 11,
   "metadata": {},
   "outputs": [
    {
     "data": {
      "image/png": "[encoded data removed]",
      "text/plain": [
       "<Figure size 720x504 with 1 Axes>"
      ]
     },
     "metadata": {
      "needs_background": "light"
     },
     "output_type": "display_data"
    }
   ],
   "source": [
    "cluster_6 = plot_cluster(6,data_scaled)"
   ]
  },
  {
   "cell_type": "markdown",
   "metadata": {},
   "source": [
    "#### 分组结果"
   ]
  },
  {
   "cell_type": "code",
   "execution_count": 12,
   "metadata": {},
   "outputs": [],
   "source": [
    "from IPython.display import display_html\n",
    "def display_side_by_side(*args):\n",
    "    html_str=''\n",
    "    for df in args:\n",
    "        html_str+=df.to_html()\n",
    "    display_html(html_str.replace('table','table style=\"display:inline\"'),raw=True)"
   ]
  },
  {
   "cell_type": "code",
   "execution_count": 13,
   "metadata": {},
   "outputs": [],
   "source": [
    "def df_value_counts(info,cluster):\n",
    "    df = pd.DataFrame(info[info['预测定位'] == cluster]['主要定位'].value_counts())\n",
    "    df.columns = [f'Cluster {cluster} 所含真实定位数量']\n",
    "    return df"
   ]
  },
  {
   "cell_type": "markdown",
   "metadata": {},
   "source": [
    "分两组"
   ]
  },
  {
   "cell_type": "code",
   "execution_count": 14,
   "metadata": {},
   "outputs": [],
   "source": [
    "info = heroes[['英雄','主要定位']].copy()\n",
    "info['预测定位'] = cluster_2\n",
    "# display_side_by_side(info[info['预测定位'] == 0].head(15),info[info['预测定位'] == 1])"
   ]
  },
  {
   "cell_type": "code",
   "execution_count": 15,
   "metadata": {},
   "outputs": [
    {
     "data": {
      "text/html": [
       "<table style=\"display:inline\" border=\"1\" class=\"dataframe\">\n",
       "  <thead>\n",
       "    <tr style=\"text-align: right;\">\n",
       "      <th></th>\n",
       "      <th>Cluster 0 所含真实定位数量</th>\n",
       "    </tr>\n",
       "  </thead>\n",
       "  <tbody>\n",
       "    <tr>\n",
       "      <th>法师</th>\n",
       "      <td>17</td>\n",
       "    </tr>\n",
       "    <tr>\n",
       "      <th>战士</th>\n",
       "      <td>11</td>\n",
       "    </tr>\n",
       "    <tr>\n",
       "      <th>射手</th>\n",
       "      <td>9</td>\n",
       "    </tr>\n",
       "    <tr>\n",
       "      <th>坦克</th>\n",
       "      <td>8</td>\n",
       "    </tr>\n",
       "    <tr>\n",
       "      <th>辅助</th>\n",
       "      <td>6</td>\n",
       "    </tr>\n",
       "    <tr>\n",
       "      <th>刺客</th>\n",
       "      <td>4</td>\n",
       "    </tr>\n",
       "  </tbody>\n",
       "</table style=\"display:inline\"><table style=\"display:inline\" border=\"1\" class=\"dataframe\">\n",
       "  <thead>\n",
       "    <tr style=\"text-align: right;\">\n",
       "      <th></th>\n",
       "      <th>Cluster 1 所含真实定位数量</th>\n",
       "    </tr>\n",
       "  </thead>\n",
       "  <tbody>\n",
       "    <tr>\n",
       "      <th>战士</th>\n",
       "      <td>7</td>\n",
       "    </tr>\n",
       "    <tr>\n",
       "      <th>刺客</th>\n",
       "      <td>2</td>\n",
       "    </tr>\n",
       "    <tr>\n",
       "      <th>坦克</th>\n",
       "      <td>2</td>\n",
       "    </tr>\n",
       "    <tr>\n",
       "      <th>法师</th>\n",
       "      <td>2</td>\n",
       "    </tr>\n",
       "    <tr>\n",
       "      <th>射手</th>\n",
       "      <td>1</td>\n",
       "    </tr>\n",
       "  </tbody>\n",
       "</table style=\"display:inline\">"
      ]
     },
     "metadata": {},
     "output_type": "display_data"
    }
   ],
   "source": [
    "display_side_by_side(df_value_counts(info,0), df_value_counts(info,1))"
   ]
  },
  {
   "cell_type": "markdown",
   "metadata": {},
   "source": [
    "分三组"
   ]
  },
  {
   "cell_type": "code",
   "execution_count": 16,
   "metadata": {},
   "outputs": [],
   "source": [
    "info['预测定位'] = cluster_3\n",
    "# display_side_by_side(info[info['预测定位'] == 0],info[info['预测定位'] == 1],info[info['预测定位'] == 2])"
   ]
  },
  {
   "cell_type": "code",
   "execution_count": 17,
   "metadata": {},
   "outputs": [
    {
     "data": {
      "text/html": [
       "<table style=\"display:inline\" border=\"1\" class=\"dataframe\">\n",
       "  <thead>\n",
       "    <tr style=\"text-align: right;\">\n",
       "      <th></th>\n",
       "      <th>Cluster 0 所含真实定位数量</th>\n",
       "    </tr>\n",
       "  </thead>\n",
       "  <tbody>\n",
       "    <tr>\n",
       "      <th>战士</th>\n",
       "      <td>11</td>\n",
       "    </tr>\n",
       "    <tr>\n",
       "      <th>坦克</th>\n",
       "      <td>8</td>\n",
       "    </tr>\n",
       "    <tr>\n",
       "      <th>辅助</th>\n",
       "      <td>4</td>\n",
       "    </tr>\n",
       "    <tr>\n",
       "      <th>法师</th>\n",
       "      <td>2</td>\n",
       "    </tr>\n",
       "  </tbody>\n",
       "</table style=\"display:inline\"><table style=\"display:inline\" border=\"1\" class=\"dataframe\">\n",
       "  <thead>\n",
       "    <tr style=\"text-align: right;\">\n",
       "      <th></th>\n",
       "      <th>Cluster 1 所含真实定位数量</th>\n",
       "    </tr>\n",
       "  </thead>\n",
       "  <tbody>\n",
       "    <tr>\n",
       "      <th>战士</th>\n",
       "      <td>7</td>\n",
       "    </tr>\n",
       "    <tr>\n",
       "      <th>刺客</th>\n",
       "      <td>2</td>\n",
       "    </tr>\n",
       "    <tr>\n",
       "      <th>坦克</th>\n",
       "      <td>2</td>\n",
       "    </tr>\n",
       "    <tr>\n",
       "      <th>法师</th>\n",
       "      <td>2</td>\n",
       "    </tr>\n",
       "    <tr>\n",
       "      <th>射手</th>\n",
       "      <td>1</td>\n",
       "    </tr>\n",
       "  </tbody>\n",
       "</table style=\"display:inline\"><table style=\"display:inline\" border=\"1\" class=\"dataframe\">\n",
       "  <thead>\n",
       "    <tr style=\"text-align: right;\">\n",
       "      <th></th>\n",
       "      <th>Cluster 2 所含真实定位数量</th>\n",
       "    </tr>\n",
       "  </thead>\n",
       "  <tbody>\n",
       "    <tr>\n",
       "      <th>法师</th>\n",
       "      <td>15</td>\n",
       "    </tr>\n",
       "    <tr>\n",
       "      <th>射手</th>\n",
       "      <td>9</td>\n",
       "    </tr>\n",
       "    <tr>\n",
       "      <th>刺客</th>\n",
       "      <td>4</td>\n",
       "    </tr>\n",
       "    <tr>\n",
       "      <th>辅助</th>\n",
       "      <td>2</td>\n",
       "    </tr>\n",
       "  </tbody>\n",
       "</table style=\"display:inline\">"
      ]
     },
     "metadata": {},
     "output_type": "display_data"
    }
   ],
   "source": [
    "display_side_by_side(df_value_counts(info,0), df_value_counts(info,1), df_value_counts(info,2))"
   ]
  },
  {
   "cell_type": "markdown",
   "metadata": {},
   "source": [
    "分六组"
   ]
  },
  {
   "cell_type": "code",
   "execution_count": 18,
   "metadata": {},
   "outputs": [
    {
     "data": {
      "text/html": [
       "<table style=\"display:inline\" border=\"1\" class=\"dataframe\">\n",
       "  <thead>\n",
       "    <tr style=\"text-align: right;\">\n",
       "      <th></th>\n",
       "      <th>Cluster 0 所含真实定位数量</th>\n",
       "    </tr>\n",
       "  </thead>\n",
       "  <tbody>\n",
       "    <tr>\n",
       "      <th>坦克</th>\n",
       "      <td>8</td>\n",
       "    </tr>\n",
       "    <tr>\n",
       "      <th>战士</th>\n",
       "      <td>4</td>\n",
       "    </tr>\n",
       "    <tr>\n",
       "      <th>辅助</th>\n",
       "      <td>1</td>\n",
       "    </tr>\n",
       "    <tr>\n",
       "      <th>法师</th>\n",
       "      <td>1</td>\n",
       "    </tr>\n",
       "  </tbody>\n",
       "</table style=\"display:inline\"><table style=\"display:inline\" border=\"1\" class=\"dataframe\">\n",
       "  <thead>\n",
       "    <tr style=\"text-align: right;\">\n",
       "      <th></th>\n",
       "      <th>Cluster 1 所含真实定位数量</th>\n",
       "    </tr>\n",
       "  </thead>\n",
       "  <tbody>\n",
       "    <tr>\n",
       "      <th>射手</th>\n",
       "      <td>9</td>\n",
       "    </tr>\n",
       "    <tr>\n",
       "      <th>法师</th>\n",
       "      <td>5</td>\n",
       "    </tr>\n",
       "    <tr>\n",
       "      <th>刺客</th>\n",
       "      <td>4</td>\n",
       "    </tr>\n",
       "    <tr>\n",
       "      <th>辅助</th>\n",
       "      <td>1</td>\n",
       "    </tr>\n",
       "  </tbody>\n",
       "</table style=\"display:inline\"><table style=\"display:inline\" border=\"1\" class=\"dataframe\">\n",
       "  <thead>\n",
       "    <tr style=\"text-align: right;\">\n",
       "      <th></th>\n",
       "      <th>Cluster 2 所含真实定位数量</th>\n",
       "    </tr>\n",
       "  </thead>\n",
       "  <tbody>\n",
       "    <tr>\n",
       "      <th>战士</th>\n",
       "      <td>6</td>\n",
       "    </tr>\n",
       "    <tr>\n",
       "      <th>坦克</th>\n",
       "      <td>2</td>\n",
       "    </tr>\n",
       "    <tr>\n",
       "      <th>刺客</th>\n",
       "      <td>1</td>\n",
       "    </tr>\n",
       "  </tbody>\n",
       "</table style=\"display:inline\"><table style=\"display:inline\" border=\"1\" class=\"dataframe\">\n",
       "  <thead>\n",
       "    <tr style=\"text-align: right;\">\n",
       "      <th></th>\n",
       "      <th>Cluster 3 所含真实定位数量</th>\n",
       "    </tr>\n",
       "  </thead>\n",
       "  <tbody>\n",
       "    <tr>\n",
       "      <th>战士</th>\n",
       "      <td>7</td>\n",
       "    </tr>\n",
       "    <tr>\n",
       "      <th>辅助</th>\n",
       "      <td>3</td>\n",
       "    </tr>\n",
       "    <tr>\n",
       "      <th>法师</th>\n",
       "      <td>1</td>\n",
       "    </tr>\n",
       "  </tbody>\n",
       "</table style=\"display:inline\"><table style=\"display:inline\" border=\"1\" class=\"dataframe\">\n",
       "  <thead>\n",
       "    <tr style=\"text-align: right;\">\n",
       "      <th></th>\n",
       "      <th>Cluster 4 所含真实定位数量</th>\n",
       "    </tr>\n",
       "  </thead>\n",
       "  <tbody>\n",
       "    <tr>\n",
       "      <th>法师</th>\n",
       "      <td>2</td>\n",
       "    </tr>\n",
       "    <tr>\n",
       "      <th>战士</th>\n",
       "      <td>1</td>\n",
       "    </tr>\n",
       "    <tr>\n",
       "      <th>刺客</th>\n",
       "      <td>1</td>\n",
       "    </tr>\n",
       "    <tr>\n",
       "      <th>射手</th>\n",
       "      <td>1</td>\n",
       "    </tr>\n",
       "  </tbody>\n",
       "</table style=\"display:inline\"><table style=\"display:inline\" border=\"1\" class=\"dataframe\">\n",
       "  <thead>\n",
       "    <tr style=\"text-align: right;\">\n",
       "      <th></th>\n",
       "      <th>Cluster 5 所含真实定位数量</th>\n",
       "    </tr>\n",
       "  </thead>\n",
       "  <tbody>\n",
       "    <tr>\n",
       "      <th>法师</th>\n",
       "      <td>10</td>\n",
       "    </tr>\n",
       "    <tr>\n",
       "      <th>辅助</th>\n",
       "      <td>1</td>\n",
       "    </tr>\n",
       "  </tbody>\n",
       "</table style=\"display:inline\">"
      ]
     },
     "metadata": {},
     "output_type": "display_data"
    }
   ],
   "source": [
    "info['预测定位'] = cluster_6\n",
    "display_side_by_side(df_value_counts(info,0), df_value_counts(info,1), df_value_counts(info,2),\n",
    "                     df_value_counts(info,3),df_value_counts(info,4),df_value_counts(info,5))"
   ]
  },
  {
   "cell_type": "markdown",
   "metadata": {},
   "source": [
    "### 降维\n",
    "- PCA & Feature Extraction"
   ]
  },
  {
   "cell_type": "code",
   "execution_count": 19,
   "metadata": {},
   "outputs": [
    {
     "data": {
      "text/html": [
       "<div>\n",
       "<style scoped>\n",
       "    .dataframe tbody tr th:only-of-type {\n",
       "        vertical-align: middle;\n",
       "    }\n",
       "\n",
       "    .dataframe tbody tr th {\n",
       "        vertical-align: top;\n",
       "    }\n",
       "\n",
       "    .dataframe thead th {\n",
       "        text-align: right;\n",
       "    }\n",
       "</style>\n",
       "<table border=\"1\" class=\"dataframe\">\n",
       "  <thead>\n",
       "    <tr style=\"text-align: right;\">\n",
       "      <th></th>\n",
       "      <th>PC 1</th>\n",
       "      <th>PC 2</th>\n",
       "      <th>PC 3</th>\n",
       "      <th>PC 4</th>\n",
       "      <th>PC 5</th>\n",
       "      <th>PC 6</th>\n",
       "      <th>PC 7</th>\n",
       "      <th>PC 8</th>\n",
       "      <th>PC 9</th>\n",
       "      <th>PC 10</th>\n",
       "      <th>PC 11</th>\n",
       "      <th>PC 12</th>\n",
       "      <th>PC 13</th>\n",
       "      <th>PC 14</th>\n",
       "      <th>PC 15</th>\n",
       "      <th>PC 16</th>\n",
       "      <th>PC 17</th>\n",
       "      <th>PC 18</th>\n",
       "      <th>PC 19</th>\n",
       "      <th>PC 20</th>\n",
       "    </tr>\n",
       "  </thead>\n",
       "  <tbody>\n",
       "    <tr>\n",
       "      <th>0</th>\n",
       "      <td>-0.004116</td>\n",
       "      <td>0.038238</td>\n",
       "      <td>0.000164</td>\n",
       "      <td>0.000908</td>\n",
       "      <td>-0.003725</td>\n",
       "      <td>0.001066</td>\n",
       "      <td>-0.000541</td>\n",
       "      <td>0.000237</td>\n",
       "      <td>0.000027</td>\n",
       "      <td>0.000081</td>\n",
       "      <td>0.000160</td>\n",
       "      <td>0.000170</td>\n",
       "      <td>-0.000056</td>\n",
       "      <td>-0.000033</td>\n",
       "      <td>0.000019</td>\n",
       "      <td>2.653457e-07</td>\n",
       "      <td>3.933326e-07</td>\n",
       "      <td>-5.835378e-08</td>\n",
       "      <td>-1.095748e-08</td>\n",
       "      <td>8.683639e-18</td>\n",
       "    </tr>\n",
       "    <tr>\n",
       "      <th>1</th>\n",
       "      <td>-0.016153</td>\n",
       "      <td>0.039912</td>\n",
       "      <td>0.002085</td>\n",
       "      <td>0.001351</td>\n",
       "      <td>0.000260</td>\n",
       "      <td>0.001267</td>\n",
       "      <td>0.000505</td>\n",
       "      <td>-0.001413</td>\n",
       "      <td>0.000163</td>\n",
       "      <td>-0.000014</td>\n",
       "      <td>-0.000485</td>\n",
       "      <td>-0.000171</td>\n",
       "      <td>-0.000059</td>\n",
       "      <td>0.000005</td>\n",
       "      <td>0.000011</td>\n",
       "      <td>9.210306e-08</td>\n",
       "      <td>1.671372e-07</td>\n",
       "      <td>-3.377346e-08</td>\n",
       "      <td>1.336835e-08</td>\n",
       "      <td>-3.294143e-18</td>\n",
       "    </tr>\n",
       "  </tbody>\n",
       "</table>\n",
       "</div>"
      ],
      "text/plain": [
       "       PC 1      PC 2      PC 3      PC 4      PC 5      PC 6      PC 7  \\\n",
       "0 -0.004116  0.038238  0.000164  0.000908 -0.003725  0.001066 -0.000541   \n",
       "1 -0.016153  0.039912  0.002085  0.001351  0.000260  0.001267  0.000505   \n",
       "\n",
       "       PC 8      PC 9     PC 10     PC 11     PC 12     PC 13     PC 14  \\\n",
       "0  0.000237  0.000027  0.000081  0.000160  0.000170 -0.000056 -0.000033   \n",
       "1 -0.001413  0.000163 -0.000014 -0.000485 -0.000171 -0.000059  0.000005   \n",
       "\n",
       "      PC 15         PC 16         PC 17         PC 18         PC 19  \\\n",
       "0  0.000019  2.653457e-07  3.933326e-07 -5.835378e-08 -1.095748e-08   \n",
       "1  0.000011  9.210306e-08  1.671372e-07 -3.377346e-08  1.336835e-08   \n",
       "\n",
       "          PC 20  \n",
       "0  8.683639e-18  \n",
       "1 -3.294143e-18  "
      ]
     },
     "execution_count": 19,
     "metadata": {},
     "output_type": "execute_result"
    }
   ],
   "source": [
    "from sklearn.decomposition import PCA\n",
    "\n",
    "#Define two components  \n",
    "pca=PCA(n_components=20) \n",
    "pca_data=pca.fit_transform(data_scaled) \n",
    "principalDf=pd.DataFrame(data=pca_data,columns=[f'PC {i}' for i in range(1,21)]) \n",
    "principalDf.head(2)"
   ]
  },
  {
   "cell_type": "code",
   "execution_count": 20,
   "metadata": {},
   "outputs": [],
   "source": [
    "# plot_df = principalDf[['PC 1','PC 2']].copy()\n",
    "# # plot\n",
    "# x = plot_df['PC 1']\n",
    "# y = plot_df['PC 2']\n",
    "\n",
    "# plt.figure(figsize = (15,8))\n",
    "# plt.scatter(x,y,s=60) \n",
    "\n",
    "# # legend(['$ŷ_(t)$','$y_(t)$','$ŷ_(t)$']) \n",
    "# plt.ylabel('PC 2') \n",
    "# plt.xlabel('PC 1')\n",
    "# plt.title('')"
   ]
  },
  {
   "cell_type": "code",
   "execution_count": 21,
   "metadata": {},
   "outputs": [],
   "source": [
    "target = heroes[['主要定位']].copy()"
   ]
  },
  {
   "cell_type": "code",
   "execution_count": 22,
   "metadata": {},
   "outputs": [
    {
     "data": {
      "text/html": [
       "<div>\n",
       "<style scoped>\n",
       "    .dataframe tbody tr th:only-of-type {\n",
       "        vertical-align: middle;\n",
       "    }\n",
       "\n",
       "    .dataframe tbody tr th {\n",
       "        vertical-align: top;\n",
       "    }\n",
       "\n",
       "    .dataframe thead th {\n",
       "        text-align: right;\n",
       "    }\n",
       "</style>\n",
       "<table border=\"1\" class=\"dataframe\">\n",
       "  <thead>\n",
       "    <tr style=\"text-align: right;\">\n",
       "      <th></th>\n",
       "      <th>PC 1</th>\n",
       "      <th>PC 2</th>\n",
       "      <th>PC 3</th>\n",
       "      <th>PC 4</th>\n",
       "      <th>PC 5</th>\n",
       "      <th>PC 6</th>\n",
       "      <th>PC 7</th>\n",
       "      <th>PC 8</th>\n",
       "      <th>PC 9</th>\n",
       "      <th>PC 10</th>\n",
       "      <th>...</th>\n",
       "      <th>PC 12</th>\n",
       "      <th>PC 13</th>\n",
       "      <th>PC 14</th>\n",
       "      <th>PC 15</th>\n",
       "      <th>PC 16</th>\n",
       "      <th>PC 17</th>\n",
       "      <th>PC 18</th>\n",
       "      <th>PC 19</th>\n",
       "      <th>PC 20</th>\n",
       "      <th>主要定位</th>\n",
       "    </tr>\n",
       "  </thead>\n",
       "  <tbody>\n",
       "    <tr>\n",
       "      <th>0</th>\n",
       "      <td>-0.004116</td>\n",
       "      <td>0.038238</td>\n",
       "      <td>0.000164</td>\n",
       "      <td>0.000908</td>\n",
       "      <td>-0.003725</td>\n",
       "      <td>0.001066</td>\n",
       "      <td>-0.000541</td>\n",
       "      <td>0.000237</td>\n",
       "      <td>0.000027</td>\n",
       "      <td>0.000081</td>\n",
       "      <td>...</td>\n",
       "      <td>0.000170</td>\n",
       "      <td>-0.000056</td>\n",
       "      <td>-0.000033</td>\n",
       "      <td>0.000019</td>\n",
       "      <td>2.653457e-07</td>\n",
       "      <td>3.933326e-07</td>\n",
       "      <td>-5.835378e-08</td>\n",
       "      <td>-1.095748e-08</td>\n",
       "      <td>8.683639e-18</td>\n",
       "      <td>坦克</td>\n",
       "    </tr>\n",
       "    <tr>\n",
       "      <th>1</th>\n",
       "      <td>-0.016153</td>\n",
       "      <td>0.039912</td>\n",
       "      <td>0.002085</td>\n",
       "      <td>0.001351</td>\n",
       "      <td>0.000260</td>\n",
       "      <td>0.001267</td>\n",
       "      <td>0.000505</td>\n",
       "      <td>-0.001413</td>\n",
       "      <td>0.000163</td>\n",
       "      <td>-0.000014</td>\n",
       "      <td>...</td>\n",
       "      <td>-0.000171</td>\n",
       "      <td>-0.000059</td>\n",
       "      <td>0.000005</td>\n",
       "      <td>0.000011</td>\n",
       "      <td>9.210306e-08</td>\n",
       "      <td>1.671372e-07</td>\n",
       "      <td>-3.377346e-08</td>\n",
       "      <td>1.336835e-08</td>\n",
       "      <td>-3.294143e-18</td>\n",
       "      <td>战士</td>\n",
       "    </tr>\n",
       "  </tbody>\n",
       "</table>\n",
       "<p>2 rows × 21 columns</p>\n",
       "</div>"
      ],
      "text/plain": [
       "       PC 1      PC 2      PC 3      PC 4      PC 5      PC 6      PC 7  \\\n",
       "0 -0.004116  0.038238  0.000164  0.000908 -0.003725  0.001066 -0.000541   \n",
       "1 -0.016153  0.039912  0.002085  0.001351  0.000260  0.001267  0.000505   \n",
       "\n",
       "       PC 8      PC 9     PC 10  ...     PC 12     PC 13     PC 14     PC 15  \\\n",
       "0  0.000237  0.000027  0.000081  ...  0.000170 -0.000056 -0.000033  0.000019   \n",
       "1 -0.001413  0.000163 -0.000014  ... -0.000171 -0.000059  0.000005  0.000011   \n",
       "\n",
       "          PC 16         PC 17         PC 18         PC 19         PC 20  主要定位  \n",
       "0  2.653457e-07  3.933326e-07 -5.835378e-08 -1.095748e-08  8.683639e-18    坦克  \n",
       "1  9.210306e-08  1.671372e-07 -3.377346e-08  1.336835e-08 -3.294143e-18    战士  \n",
       "\n",
       "[2 rows x 21 columns]"
      ]
     },
     "execution_count": 22,
     "metadata": {},
     "output_type": "execute_result"
    }
   ],
   "source": [
    "finalDf=pd.concat([principalDf,target],axis=1)\n",
    "finalDf.head(2)"
   ]
  },
  {
   "cell_type": "code",
   "execution_count": 23,
   "metadata": {},
   "outputs": [
    {
     "data": {
      "image/png": "[encoded data removed]",
      "text/plain": [
       "<Figure size 1080x720 with 1 Axes>"
      ]
     },
     "metadata": {
      "needs_background": "light"
     },
     "output_type": "display_data"
    }
   ],
   "source": [
    "from sklearn import datasets\n",
    "from sklearn.preprocessing import StandardScaler\n",
    "\n",
    "def myplot(score,coeff,labels=None):\n",
    "    xs = score[:,0]\n",
    "    ys = score[:,1]\n",
    "    n = coeff.shape[0]\n",
    "    scalex = 1.0/(xs.max() - xs.min())\n",
    "    scaley = 1.0/(ys.max() - ys.min())\n",
    "    plt.scatter(xs * scalex,ys * scaley)\n",
    "    for i in range(n):\n",
    "        plt.arrow(0, 0, coeff[i,0], coeff[i,1],color = 'r',alpha = 0.5)\n",
    "        if labels is None:\n",
    "            plt.text(coeff[i,0]* 1.15, coeff[i,1] * 1.15, \"Var\"+str(i+1), color = 'g', ha = 'center', va = 'center')\n",
    "        else:\n",
    "            plt.text(coeff[i,0]* 1.15, coeff[i,1] * 1.15, labels[i], color = 'g', ha = 'center', va = 'center')\n",
    "plt.figure(figsize=[15,10])\n",
    "plt.xlim(-1,1)\n",
    "plt.ylim(-1,1)\n",
    "plt.xlabel(\"PC{}\".format(1))\n",
    "plt.ylabel(\"PC{}\".format(2))\n",
    "plt.grid()\n",
    "\n",
    "#Call the function. Use only the 2 PCs.\n",
    "myplot(pca_data[:,0:2],np.transpose(pca.components_[0:2, :]))\n",
    "plt.show()"
   ]
  },
  {
   "cell_type": "code",
   "execution_count": 24,
   "metadata": {},
   "outputs": [],
   "source": [
    "# np.array([list(data.columns),[i for i in range(1,21)]]).T"
   ]
  },
  {
   "cell_type": "markdown",
   "metadata": {},
   "source": [
    "| Var 4 | Var 3 | Var 1 | Var 6 | Var 7 | Var 2 |\n",
    "| --- | --- | --- | --- | --- | --- |\n",
    "| 最大法力 | 初始生命 | 最大生命 | 初始法力 | 最高物攻 | 生命成长 |\n",
    "\n",
    "根据PCA的图和上面号码对应的属性，我们可以知道上表这些是最能分别英雄类型的属性。\n",
    "                                                \n",
    "- 其中“最大法力(var 4)”和“初始法力(var 6)”是能最明显的把英雄们分为两类。\n",
    "- 而[“最大生命(var 1)”,“生命成长(var 2)”] 和 [“初始生命(var 3)”,“最高物攻(var 7)”] 是能把英雄们分成三类的关键。                              "
   ]
  },
  {
   "cell_type": "markdown",
   "metadata": {},
   "source": [
    "接下来我们用这些属性来进行层次聚类"
   ]
  },
  {
   "cell_type": "code",
   "execution_count": 25,
   "metadata": {},
   "outputs": [],
   "source": [
    "new_data = data_scaled[['最大法力','初始生命','最大生命','初始法力','最高物攻','生命成长']].copy()"
   ]
  },
  {
   "cell_type": "code",
   "execution_count": 26,
   "metadata": {},
   "outputs": [
    {
     "data": {
      "text/plain": [
       "<matplotlib.lines.Line2D at 0x24781d31da0>"
      ]
     },
     "execution_count": 26,
     "metadata": {},
     "output_type": "execute_result"
    },
    {
     "data": {
      "image/png": "[encoded data removed]",
      "text/plain": [
       "<Figure size 720x504 with 1 Axes>"
      ]
     },
     "metadata": {
      "needs_background": "light"
     },
     "output_type": "display_data"
    }
   ],
   "source": [
    "plt.figure(figsize=(10, 7))  \n",
    "plt.title(\"Dendrograms\")  \n",
    "dend = shc.dendrogram(shc.linkage(new_data, method='ward')) # ward\n",
    "plt.axhline(y=0.8, color='r', linestyle='--')\n",
    "# plt.axhline(y=0.134, color='r', linestyle='--')\n",
    "plt.axhline(y=0.4, color='r', linestyle='--')"
   ]
  },
  {
   "cell_type": "code",
   "execution_count": 27,
   "metadata": {},
   "outputs": [
    {
     "data": {
      "image/png": "[encoded data removed]",
      "text/plain": [
       "<Figure size 720x504 with 1 Axes>"
      ]
     },
     "metadata": {
      "needs_background": "light"
     },
     "output_type": "display_data"
    }
   ],
   "source": [
    "cluster_3 = plot_cluster(3,new_data)"
   ]
  },
  {
   "cell_type": "markdown",
   "metadata": {},
   "source": [
    "结果和之前差不多\n",
    "\n",
    "根据以上结果，我们可以把英雄可以分成两组或三组。\n",
    "\n",
    "不过这是大方向的组别。因为根据游戏的复杂度，有些英雄即使属性上是相近的，但是他们可能因为别的原因（例如：技能差别, 英雄的设计背景等）被定位为不同的类型。"
   ]
  },
  {
   "cell_type": "code",
   "execution_count": null,
   "metadata": {},
   "outputs": [],
   "source": []
  }
 ],
 "metadata": {
  "kernelspec": {
   "display_name": "Python 3",
   "language": "python",
   "name": "python3"
  },
  "language_info": {
   "codemirror_mode": {
    "name": "ipython",
    "version": 3
   },
   "file_extension": ".py",
   "mimetype": "text/x-python",
   "name": "python",
   "nbconvert_exporter": "python",
   "pygments_lexer": "ipython3",
   "version": "3.7.3"
  },
  "nbTranslate": {
   "displayLangs": [
    "*"
   ],
   "hotkey": "alt-t",
   "langInMainMenu": true,
   "sourceLang": "en",
   "targetLang": "fr",
   "useGoogleTranslate": true
  },
  "varInspector": {
   "cols": {
    "lenName": 16,
    "lenType": 16,
    "lenVar": 40
   },
   "kernels_config": {
    "python": {
     "delete_cmd_postfix": "",
     "delete_cmd_prefix": "del ",
     "library": "var_list.py",
     "varRefreshCmd": "print(var_dic_list())"
    },
    "r": {
     "delete_cmd_postfix": ") ",
     "delete_cmd_prefix": "rm(",
     "library": "var_list.r",
     "varRefreshCmd": "cat(var_dic_list()) "
    }
   },
   "types_to_exclude": [
    "module",
    "function",
    "builtin_function_or_method",
    "instance",
    "_Feature"
   ],
   "window_display": false
  }
 },
 "nbformat": 4,
 "nbformat_minor": 2
}
